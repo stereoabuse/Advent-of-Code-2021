{
 "cells": [
  {
   "cell_type": "markdown",
   "metadata": {},
   "source": [
    "# Advent of Code 2021"
   ]
  },
  {
   "cell_type": "markdown",
   "metadata": {},
   "source": [
    "## Imports"
   ]
  },
  {
   "cell_type": "code",
   "execution_count": 1,
   "metadata": {},
   "outputs": [],
   "source": [
    "import cookies  # private sessionID and headers\n",
    "import requests\n",
    "import copy\n",
    "import re\n",
    "from collections import Counter"
   ]
  },
  {
   "cell_type": "markdown",
   "metadata": {},
   "source": [
    "## Utility functions"
   ]
  },
  {
   "cell_type": "code",
   "execution_count": 2,
   "metadata": {},
   "outputs": [],
   "source": [
    "def integers(s: str) -> list:\n",
    "    return [int(i) for i in re.split(r'\\D+', s) if i]\n",
    "\n",
    "\n",
    "def puzzle_input(day: int) -> str:\n",
    "    url = f'https://adventofcode.com/2021/day/{day}/input'\n",
    "    return requests.get(url, cookies=cookies.COOKIES, headers=cookies.HEADERS).text\n",
    "\n",
    "\n",
    "def answers(day: int) -> None:\n",
    "    part_1 = f'day{day}_1'\n",
    "    part_2 = f'day{day}_2'\n",
    "    if part_1 in globals():\n",
    "        %time print(f'Solution for Day {day} Part 1: {globals()[part_1](globals()[\"vals\"])}')\n",
    "    else:\n",
    "        print(f'No function for Day {day} Part 1. Obviously you did it so where is it?')\n",
    "    if part_2 in globals():\n",
    "        %time print(f'Solution for Day {day} Part 2: {globals()[part_2](globals()[\"vals\"])}')\n",
    "    else:\n",
    "        print(f'No function for Day {day} Part 2...Sad!')"
   ]
  },
  {
   "cell_type": "markdown",
   "metadata": {},
   "source": [
    "## Day 1"
   ]
  },
  {
   "cell_type": "code",
   "execution_count": 3,
   "metadata": {},
   "outputs": [
    {
     "name": "stdout",
     "output_type": "stream",
     "text": [
      "Solution for Day 1 Part 1: 1292\n",
      "Wall time: 1e+03 µs\n",
      "Solution for Day 1 Part 2: 1262\n",
      "Wall time: 0 ns\n"
     ]
    }
   ],
   "source": [
    "\n",
    "def day1_1(ins: list) -> int:\n",
    "    return sum(ins[i + 1] > ins[i] for i in range(len(ins) - 1))\n",
    "\n",
    "\n",
    "def day1_2(ins: list) -> int:\n",
    "    sliding_window = [a + b + c for a, b, c, in zip(ins[:-2], ins[1:-1], ins[2:])]\n",
    "    return day1_1(sliding_window)\n",
    "\n",
    "\n",
    "vals = integers(puzzle_input(1))\n",
    "answers(1)"
   ]
  },
  {
   "cell_type": "markdown",
   "metadata": {},
   "source": [
    "## Day 2"
   ]
  },
  {
   "cell_type": "code",
   "execution_count": 4,
   "metadata": {},
   "outputs": [
    {
     "name": "stdout",
     "output_type": "stream",
     "text": [
      "Solution for Day 2 Part 1: 1868935\n",
      "Wall time: 0 ns\n",
      "Solution for Day 2 Part 2: 1965970888\n",
      "Wall time: 0 ns\n"
     ]
    }
   ],
   "source": [
    "def day2_1(ins: list) -> int:\n",
    "    horizontal, depth = 0, 0\n",
    "    for command in ins:\n",
    "        direction, x = command.split()\n",
    "        x = int(x)\n",
    "        if direction == 'forward':\n",
    "            horizontal += x\n",
    "        elif direction == 'down':\n",
    "            depth += x\n",
    "        elif direction == 'up':\n",
    "            depth -= x\n",
    "    return depth * horizontal\n",
    "\n",
    "\n",
    "def day2_2(ins: list) -> int:\n",
    "    horizontal, depth, aim = 0, 0, 0\n",
    "    for command in ins:\n",
    "        direction, x = command.split()\n",
    "        x = int(x)\n",
    "        if direction == 'forward':\n",
    "            horizontal += x\n",
    "            depth += x * aim\n",
    "        elif direction == 'down':\n",
    "            aim += x\n",
    "        elif direction == 'up':\n",
    "            aim -= x\n",
    "    return depth * horizontal\n",
    "\n",
    "\n",
    "vals = puzzle_input(2).splitlines()\n",
    "answers(2)"
   ]
  },
  {
   "cell_type": "markdown",
   "metadata": {},
   "source": [
    "## Day 3"
   ]
  },
  {
   "cell_type": "code",
   "execution_count": 5,
   "metadata": {},
   "outputs": [
    {
     "name": "stdout",
     "output_type": "stream",
     "text": [
      "Solution for Day 3 Part 1: 845186\n",
      "Wall time: 1 ms\n",
      "Solution for Day 3 Part 2: 4636702\n",
      "Wall time: 2 ms\n"
     ]
    }
   ],
   "source": [
    "def day3_1(ins:list) -> int:\n",
    "    \n",
    "    bit, opposite = '',''\n",
    "    for column in range(len(ins[0])):\n",
    "        b = Counter(list(row[column] for row in ins)).most_common()[0][0]\n",
    "        bit += b\n",
    "        if b == '0':\n",
    "            opposite += '1'\n",
    "        else:\n",
    "            opposite += '0'\n",
    "    g = int(bit, 2)\n",
    "    e = int(opposite, 2)\n",
    "    return g * e\n",
    "\n",
    "def day3_2(ins:list) -> int:\n",
    "    \n",
    "    def most(thing):\n",
    "        if thing.count('0') > thing.count('1'):\n",
    "            return '0'\n",
    "        return '1'\n",
    "\n",
    "    def least(thing):\n",
    "        if thing.count('0') <= thing.count('1'):\n",
    "            return '0'\n",
    "        return '1'\n",
    "\n",
    "\n",
    "    options = ins\n",
    "    col = 0\n",
    "    while len(options)>1:\n",
    "        new = []\n",
    "        m = most([options[x][col] for x in range(len(options))])\n",
    "        for row in options:\n",
    "            if row[col] == m:\n",
    "                new.append(row)\n",
    "        options = new\n",
    "        col += 1\n",
    "    ox = int(options[0], 2)\n",
    "    \n",
    "    options = ins\n",
    "    col = 0\n",
    "    while len(options)>1:\n",
    "        new = []\n",
    "        l = least([options[x][col] for x in range(len(options))])\n",
    "        m = most([options[x][col] for x in range(len(options))])\n",
    "        for row in options:\n",
    "            if row[col] == l:\n",
    "                new.append(row)\n",
    "        options = new\n",
    "        col += 1\n",
    "\n",
    "    co2 = int(options[0], 2)\n",
    "\n",
    "    return ox * co2\n",
    "\n",
    "vals = puzzle_input(3).splitlines()\n",
    "answers(3)"
   ]
  },
  {
   "cell_type": "markdown",
   "metadata": {},
   "source": [
    "## Day 4"
   ]
  },
  {
   "cell_type": "code",
   "execution_count": 6,
   "metadata": {},
   "outputs": [
    {
     "name": "stdout",
     "output_type": "stream",
     "text": [
      "Solution for Day 4 Part 1: 74320\n",
      "Wall time: 18 ms\n",
      "Solution for Day 4 Part 2: 17884\n",
      "Wall time: 90 ms\n"
     ]
    }
   ],
   "source": [
    "def day4_1(ins:str) -> int:\n",
    "    draws = [int(x) for x in ins.splitlines()[0].split(',')]\n",
    "    boards = [integers(board) for board in ins.split('\\n\\n')[1:]]\n",
    "    for draw in draws:\n",
    "        for board_index in range(len(boards)):\n",
    "            boards[board_index] =[False if item == draw else item for item in boards[board_index]]\n",
    "            vertical = [[boards[board_index][start + 5 * i] for i in range(5)] for start in range(5)]\n",
    "            horizontal = [boards[board_index][start:start+5] for start in range(0, len(boards[board_index]), 5)]\n",
    "            for group in horizontal + vertical:\n",
    "                if not any(group):\n",
    "                    return (sum(x for x in boards[board_index] if x) * draw)\n",
    "                \n",
    "def day4_2(ins:str) -> int:\n",
    "    draws = [int(x) for x in ins.splitlines()[0].split(',')]\n",
    "    boards = [integers(board) for board in ins.split('\\n\\n')[1:]]\n",
    "    board_copy = copy.copy(boards)\n",
    "    for draw_index, draw in enumerate(draws):\n",
    "        winners = set()\n",
    "        for board_index in range(len(boards)):\n",
    "            boards[board_index] =[False if item == draw else item for item in boards[board_index]]\n",
    "            vertical = [[boards[board_index][start + 5 * i] for i in range(5)] for start in range(5)]\n",
    "            horizontal = [boards[board_index][start:start+5] for start in range(0, len(boards[board_index]), 5)]\n",
    "            for group in horizontal + vertical:\n",
    "                if not any(group):\n",
    "                    winners.add(board_index)\n",
    "        if len(winners) == len(boards) -1:\n",
    "            for r in range(len(boards)):\n",
    "                if r not in winners:\n",
    "                    winning_board_index = r\n",
    "    winning_board = board_copy[winning_board_index]\n",
    "    for draw in draws:\n",
    "        winning_board = [False if item == draw else item for item in winning_board]\n",
    "        vertical = [[winning_board[start + 5 * i] for i in range(5)] for start in range(5)]\n",
    "        horizontal = [winning_board[start:start+5] for start in range(0, len(boards[board_index]), 5)]\n",
    "        for group in horizontal + vertical:\n",
    "            if not any(group):\n",
    "                return sum(x for x in winning_board if x)* draw\n",
    "\n",
    "vals = puzzle_input(4)\n",
    "answers(4)"
   ]
  },
  {
   "cell_type": "markdown",
   "metadata": {},
   "source": [
    "## Day 5"
   ]
  },
  {
   "cell_type": "code",
   "execution_count": 7,
   "metadata": {},
   "outputs": [
    {
     "name": "stdout",
     "output_type": "stream",
     "text": [
      "Solution for Day 5 Part 1: 6007\n",
      "Wall time: 79 ms\n",
      "No function for Day 5 Part 2..Sad!\n"
     ]
    }
   ],
   "source": [
    "def day5_1(ins: str) -> int:\n",
    "    total = 0\n",
    "    matrix = [[0 for j in range(1000)] for i in range(1000)]\n",
    "    ins = [i.split('->')for i in ins.splitlines()]\n",
    "    for item in ins:\n",
    "        a, b = [[int(x) for x in item.split(',')] for item in item]\n",
    "        x1, y1 = a\n",
    "        x2, y2 = b\n",
    "        if x1 == x2:\n",
    "            for coord in range(min(y1, y2), max(y1, y2)+1):\n",
    "                matrix[coord][x1] += 1\n",
    "        elif y1 == y2:\n",
    "            for coord in range(min(x1, x2), max(x1, x2)+1):\n",
    "                matrix[y1][coord] += 1\n",
    "    for row in matrix:\n",
    "        for item in row:\n",
    "            if item > 1:\n",
    "                total += 1\n",
    "    return  total\n",
    "\n",
    "vals = puzzle_input(5)\n",
    "answers(5)"
   ]
  },
  {
   "cell_type": "markdown",
   "metadata": {},
   "source": [
    "## Day 6"
   ]
  },
  {
   "cell_type": "code",
   "execution_count": 8,
   "metadata": {},
   "outputs": [
    {
     "name": "stdout",
     "output_type": "stream",
     "text": [
      "Solution for Day 6 Part 1: 356190\n",
      "Wall time: 805 ms\n",
      "No function for Day 6 Part 2..Sad!\n"
     ]
    }
   ],
   "source": [
    "def day6_1(ins:str) -> int:\n",
    "    lanternfish = [(x, True) for x in integers(ins)]\n",
    "    for day in range(80):\n",
    "        state_of_fish = []\n",
    "        fish_to_add = 0\n",
    "        for fish, old in lanternfish:\n",
    "            if old and fish > 0:\n",
    "                state_of_fish.append((fish-1, True))\n",
    "            elif old and fish == 0:\n",
    "                fish_to_add += 1\n",
    "                state_of_fish.append((6, True))\n",
    "            elif not old and fish > 0:\n",
    "                state_of_fish.append((fish-1, False))\n",
    "            elif not old and fish == 0:\n",
    "                fish_to_add += 1\n",
    "                state_of_fish.append((6, True))\n",
    "        state_of_fish = state_of_fish + [(8, False)] * fish_to_add\n",
    "        lanternfish = state_of_fish\n",
    "    return len(lanternfish)\n",
    "\n",
    "vals = puzzle_input(6)\n",
    "answers(6)"
   ]
  },
  {
   "cell_type": "markdown",
   "metadata": {},
   "source": [
    "## Day 7"
   ]
  },
  {
   "cell_type": "code",
   "execution_count": 9,
   "metadata": {},
   "outputs": [
    {
     "name": "stdout",
     "output_type": "stream",
     "text": [
      "Solution for Day 7 Part 1: 347509\n",
      "Wall time: 234 ms\n",
      "Solution for Day 7 Part 2: 98257206\n",
      "Wall time: 1min 14s\n"
     ]
    }
   ],
   "source": [
    "def steps(step):\n",
    "    return sum(x for x in range(step+1))\n",
    "\n",
    "def day7_1(ins:str) -> int:\n",
    "    a =  [int(x) for x in ins.split(',')]\n",
    "    lowest = float('inf')\n",
    "    for i in range(max(a)):\n",
    "        total = 0\n",
    "        for item in a:\n",
    "            total += abs(item - i)\n",
    "        if total < lowest:\n",
    "            lowest = total\n",
    "    return lowest\n",
    "\n",
    "def day7_2(ins:str) -> int:  # SLOW BRUTE FORCE :|\n",
    "    a =  [int(x) for x in ins.split(',')]\n",
    "    lowest = float('inf')\n",
    "    for i in range(max(a)):\n",
    "        total = 0\n",
    "        for item in a:\n",
    "            total += steps(abs(item - i))\n",
    "        if total < lowest:\n",
    "            lowest = total\n",
    "    return lowest\n",
    "    \n",
    "\n",
    "\n",
    "vals = puzzle_input(7)\n",
    "answers(7)  ## takes forever!"
   ]
  },
  {
   "cell_type": "markdown",
   "metadata": {},
   "source": [
    "## Day 8"
   ]
  },
  {
   "cell_type": "code",
   "execution_count": 10,
   "metadata": {},
   "outputs": [
    {
     "name": "stdout",
     "output_type": "stream",
     "text": [
      "Solution for Day 8 Part 1: 365\n",
      "Wall time: 194 ms\n",
      "Solution for Day 8 Part 2: 975706\n",
      "Wall time: 193 ms\n"
     ]
    }
   ],
   "source": [
    "digits = {0:'abcefg', \n",
    "          1: 'cf', \n",
    "          2: 'acdeg', \n",
    "          3: 'acdfg', \n",
    "          4: 'bcdf', \n",
    "          5: 'abdfg', \n",
    "          6: 'abdefg', \n",
    "          7: 'acf', \n",
    "          8: 'abcdefg', \n",
    "          9: 'abcdfg'}\n",
    "\n",
    "inverse_digits = {v: k for k, v in digits.items()}\n",
    "\n",
    "def signal_string(signal):\n",
    "    return ''.join(x for x in signal)\n",
    "\n",
    "\n",
    "def find_a(signal):\n",
    "    length_of_three = list(filter(lambda x: len(x)==3, signal))[0]\n",
    "    length_of_two = list(filter(lambda x: len(x)==2, signal))[0]\n",
    "    return list(set(length_of_three) - set(length_of_two))[0]\n",
    "\n",
    "\n",
    "def find_b(signal):\n",
    "    return Counter(signal_string(signal)).most_common()[-2][0] \n",
    "\n",
    "\n",
    "def find_c(signal):\n",
    "    return [x[0] for x in Counter(signal_string(signal)).most_common()[1:3] if x[0] != find_a(signal)][0]\n",
    "\n",
    "\n",
    "def find_d(signal):\n",
    "    length_of_four = list(filter(lambda x: len(x) == 4, signal))[0]\n",
    "    return [letter for letter in length_of_four if letter not in [find_b(signal), \\\n",
    "                                                                  find_c(signal), \\\n",
    "                                                                  find_f(signal)]][0]\n",
    "\n",
    "\n",
    "def find_e(signal):\n",
    "    return Counter(signal_string(signal)).most_common()[-1][0] \n",
    "\n",
    "\n",
    "def find_f(signal):\n",
    "    return Counter(signal_string(signal)).most_common()[0][0]\n",
    "\n",
    "\n",
    "def find_g(signal):\n",
    "    return [num for num in 'abcdefg' if num not in [find_a(signal), \\\n",
    "                                                    find_b(signal), \\\n",
    "                                                    find_c(signal), \\\n",
    "                                                    find_d(signal), \\\n",
    "                                                    find_f(signal), \\\n",
    "                                                    find_e(signal), \\\n",
    "                                                    find_f(signal)]][0]\n",
    "\n",
    "\n",
    "def corrected_signal(signal, output):\n",
    "    starting = ' '.join(s for s in output)\n",
    "    new = ''\n",
    "    letter_dict = {}\n",
    "    for letter in 'abcdefg':\n",
    "        letter_dict[globals()[f'find_{letter}'](signal)] = letter\n",
    "    for char in starting:\n",
    "        if char == ' ':\n",
    "            new += ' '\n",
    "        else:\n",
    "            new += letter_dict[char]\n",
    "    corrected_output = [''.join(sorted(item)) for item in new.split()]\n",
    "    return [inverse_digits[item] for item in corrected_output]\n",
    "\n",
    "\n",
    "def day8_1(ins:str) -> int:\n",
    "    samples = ins.splitlines()\n",
    "    part_1_total = 0 \n",
    "    for sample in samples:\n",
    "        signal, output = [i.split() for i in sample.split(' |')]\n",
    "        for item in corrected_signal(signal, output):\n",
    "            if item in [1,4,7,8]:\n",
    "                part_1_total += 1\n",
    "    return part_1_total\n",
    "\n",
    "\n",
    "\n",
    "def day8_2(ins:str) -> int:\n",
    "    samples = ins.splitlines()\n",
    "    total = 0\n",
    "    for sample in samples:\n",
    "        signal, output = [i.split() for i in sample.split(' |')]\n",
    "        total +=  int(''.join(str(x) for x in corrected_signal(signal, output)))\n",
    "\n",
    "    return total\n",
    "\n",
    "\n",
    "vals = puzzle_input(8)\n",
    "answers(8)"
   ]
  },
  {
   "cell_type": "markdown",
   "metadata": {},
   "source": [
    "## Day 9"
   ]
  },
  {
   "cell_type": "code",
   "execution_count": 11,
   "metadata": {},
   "outputs": [
    {
     "name": "stdout",
     "output_type": "stream",
     "text": [
      "Solution for Day 9 Part 1: 566\n",
      "Wall time: 55 ms\n",
      "No function for Day 9 Part 2..Sad!\n"
     ]
    }
   ],
   "source": [
    "def adjacent(row, column, grid):\n",
    "    for x in range(- 1, 2):\n",
    "        for y in range(- 1, 2):\n",
    "            if 0 <= row + x < len(grid) and 0 <= column + y < len(grid[0]) and (x, y) != (0,0):\n",
    "                if x == 0:\n",
    "                    yield grid[row + x][column + y]\n",
    "                elif y == 0:\n",
    "                    yield grid[row + x][column + y]\n",
    "\n",
    "def day9_1(ins:str) -> int:\n",
    "    GRID = [[int(i) for i in list(x)] for x in ins.splitlines()]\n",
    "    total = 0\n",
    "    for row in range(len(GRID)):\n",
    "        for column in range(len(GRID[row])):\n",
    "            point = GRID[row][column]\n",
    "            a = list(adjacent(row, column, GRID))\n",
    "            if all(point < item for item in a):\n",
    "                total += 1 + point\n",
    "\n",
    "    return total\n",
    "\n",
    "vals = puzzle_input(9)\n",
    "answers(9)"
   ]
  }
 ],
 "metadata": {
  "kernelspec": {
   "display_name": "Python 3",
   "language": "python",
   "name": "python3"
  },
  "language_info": {
   "codemirror_mode": {
    "name": "ipython",
    "version": 3
   },
   "file_extension": ".py",
   "mimetype": "text/x-python",
   "name": "python",
   "nbconvert_exporter": "python",
   "pygments_lexer": "ipython3",
   "version": "3.8.1"
  }
 },
 "nbformat": 4,
 "nbformat_minor": 4
}
